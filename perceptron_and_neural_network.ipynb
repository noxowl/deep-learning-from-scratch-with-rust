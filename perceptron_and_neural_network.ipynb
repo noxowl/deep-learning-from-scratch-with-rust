{
 "cells": [
  {
   "cell_type": "code",
   "execution_count": 2,
   "metadata": {},
   "outputs": [],
   "source": [
    ":dep ndarray = \"^0.15.0\"\n",
    ":dep plotters = { version = \"^0.3.4\", default_features = false, features = [\"evcxr\", \"all_series\"] }\n",
    "\n",
    "use ndarray::{array, Array, Array1, Array2, ArrayBase, Ix1, Ix2, Ix3, Zip};\n",
    "extern crate plotters;\n",
    "use plotters::prelude::*;"
   ]
  },
  {
   "cell_type": "markdown",
   "metadata": {},
   "source": [
    "## Perceptron Logic gate"
   ]
  },
  {
   "cell_type": "markdown",
   "metadata": {},
   "source": [
    "$$y = \\begin{cases}0 \\quad (w_1x_1+w_2x_2\\le\\theta)\\\\1 \\quad (w_1x_2+w_2x_2>\\theta)\\end{cases}$$"
   ]
  },
  {
   "cell_type": "code",
   "execution_count": 3,
   "metadata": {},
   "outputs": [],
   "source": [
    "fn simple_AND(x1: f32, x2: f32) -> f32 {\n",
    "    let w1 = 0.5;\n",
    "    let w2 = 0.5;\n",
    "    let theta = 0.7_f32;\n",
    "    let temp = x1 * w1 + x2 * w2;\n",
    "    if temp <= theta {\n",
    "        0.0_f32\n",
    "    } else {\n",
    "        1.0_f32\n",
    "    }\n",
    "}"
   ]
  },
  {
   "cell_type": "code",
   "execution_count": 4,
   "metadata": {},
   "outputs": [],
   "source": [
    "assert!(simple_AND(0., 0.) == 0.);\n",
    "assert!(simple_AND(1., 0.) == 0.);\n",
    "assert!(simple_AND(0., 1.) == 0.);\n",
    "assert!(simple_AND(1., 1.) == 1.);"
   ]
  },
  {
   "cell_type": "markdown",
   "metadata": {},
   "source": [
    "$$y = \\begin{cases}0 \\quad (b+w_1x_1+w_2x_2\\le0)\\\\1 \\quad (b+w_1x_2+w_2x_2>0)\\end{cases}$$"
   ]
  },
  {
   "cell_type": "markdown",
   "metadata": {},
   "source": [
    "$$y = h(b+w_1x_1+w_2x_2)$$"
   ]
  },
  {
   "cell_type": "markdown",
   "metadata": {},
   "source": [
    "$$h(x) = \\begin{cases}0 \\quad (x\\le0)\\\\1 \\quad (x>0)\\end{cases}$$"
   ]
  },
  {
   "cell_type": "code",
   "execution_count": 5,
   "metadata": {},
   "outputs": [],
   "source": [
    "fn AND(x1: f32, x2: f32) -> f32 {\n",
    "    let x = array![x1, x2];\n",
    "    let weight = array![0.5_f32, 0.5];\n",
    "    let bias = -0.7_f32;\n",
    "    let temp = x.dot(&weight) + bias;\n",
    "    if temp <= 0. {\n",
    "        0.0_f32\n",
    "    } else {\n",
    "        1.0_f32\n",
    "    }\n",
    "}"
   ]
  },
  {
   "cell_type": "code",
   "execution_count": 6,
   "metadata": {},
   "outputs": [],
   "source": [
    "assert!(AND(0., 0.) == 0.);\n",
    "assert!(AND(1., 0.) == 0.);\n",
    "assert!(AND(0., 1.) == 0.);\n",
    "assert!(AND(1., 1.) == 1.);"
   ]
  },
  {
   "cell_type": "code",
   "execution_count": 7,
   "metadata": {},
   "outputs": [],
   "source": [
    "fn NAND(x1: f32, x2: f32) -> f32 {\n",
    "    let x = array![x1, x2];\n",
    "    let weight = array![-0.5_f32, -0.5];\n",
    "    let bias = 0.7_f32;\n",
    "    let temp = x.dot(&weight) + bias;\n",
    "    if temp <= 0. {\n",
    "        0.0_f32\n",
    "    } else {\n",
    "        1.0_f32\n",
    "    }\n",
    "}"
   ]
  },
  {
   "cell_type": "code",
   "execution_count": 8,
   "metadata": {},
   "outputs": [],
   "source": [
    "assert!(NAND(0., 0.) == 1.);\n",
    "assert!(NAND(1., 0.) == 1.);\n",
    "assert!(NAND(0., 1.) == 1.);\n",
    "assert!(NAND(1., 1.) == 0.);"
   ]
  },
  {
   "cell_type": "code",
   "execution_count": 9,
   "metadata": {},
   "outputs": [],
   "source": [
    "fn OR(x1: f32, x2: f32) -> f32 {\n",
    "    let x = array![x1, x2];\n",
    "    let weight = array![0.5_f32, 0.5];\n",
    "    let bias = -0.2_f32;\n",
    "    let temp = x.dot(&weight) + bias;\n",
    "    if temp <= 0. {\n",
    "        0.0_f32\n",
    "    } else {\n",
    "        1.0_f32\n",
    "    }\n",
    "}"
   ]
  },
  {
   "cell_type": "code",
   "execution_count": 10,
   "metadata": {},
   "outputs": [],
   "source": [
    "assert!(OR(0., 0.) == 0.);\n",
    "assert!(OR(1., 0.) == 1.);\n",
    "assert!(OR(0., 1.) == 1.);\n",
    "assert!(OR(1., 1.) == 1.);"
   ]
  },
  {
   "cell_type": "code",
   "execution_count": 11,
   "metadata": {},
   "outputs": [],
   "source": [
    "fn XOR(x1: f32, x2: f32) -> f32 {\n",
    "    let s1 = NAND(x1, x2);\n",
    "    let s2 = OR(x1, x2);\n",
    "    AND(s1, s2)\n",
    "}"
   ]
  },
  {
   "cell_type": "code",
   "execution_count": 12,
   "metadata": {},
   "outputs": [],
   "source": [
    "assert!(XOR(0., 0.) == 0.);\n",
    "assert!(XOR(1., 0.) == 1.);\n",
    "assert!(XOR(0., 1.) == 1.);\n",
    "assert!(XOR(1., 1.) == 0.);"
   ]
  },
  {
   "cell_type": "markdown",
   "metadata": {},
   "source": [
    "## Activation Function"
   ]
  },
  {
   "cell_type": "markdown",
   "metadata": {},
   "source": [
    "$$a=b+x_1x_1+w_2x_2$$"
   ]
  },
  {
   "cell_type": "markdown",
   "metadata": {},
   "source": [
    "$$y=h(a)$$"
   ]
  },
  {
   "cell_type": "code",
   "execution_count": 13,
   "metadata": {},
   "outputs": [],
   "source": [
    "fn draw_figure(mut x_data: Array1<f32>, y_data: Array1<f32>, xlim: (f32, f32), ylim: (f32, f32)) {\n",
    "    evcxr_figure((480, 320), |root| {\n",
    "        root.fill(&WHITE)?;\n",
    "        let mut chart = ChartBuilder::on(&root)\n",
    "        .margin(5)\n",
    "        .x_label_area_size(30)\n",
    "        .y_label_area_size(30)\n",
    "        .build_cartesian_2d(xlim.0..xlim.1, ylim.0..ylim.1)?;\n",
    "\n",
    "        chart.configure_mesh().disable_mesh().draw()?;\n",
    "\n",
    "        chart.draw_series(LineSeries::new(\n",
    "            Zip::from(&mut x_data).and(&y_data).map_collect(|x, y| (*x, *y)),\n",
    "            &BLACK\n",
    "        ));\n",
    "        Ok(())\n",
    "    }).evcxr_display()\n",
    "}"
   ]
  },
  {
   "cell_type": "code",
   "execution_count": 14,
   "metadata": {},
   "outputs": [
    {
     "data": {
      "text/html": [
       "<div style=\"\"><svg width=\"480\" height=\"320\" viewBox=\"0 0 480 320\" xmlns=\"http://www.w3.org/2000/svg\">\n",
       "<rect x=\"0\" y=\"0\" width=\"480\" height=\"320\" opacity=\"1\" fill=\"#FFFFFF\" stroke=\"none\"/>\n",
       "<polyline fill=\"none\" opacity=\"1\" stroke=\"#000000\" stroke-width=\"1\" points=\"34,5 34,284 \"/>\n",
       "<text x=\"25\" y=\"261\" dy=\"0.5ex\" text-anchor=\"end\" font-family=\"sans-serif\" font-size=\"9.67741935483871\" opacity=\"1\" fill=\"#000000\">\n",
       "0.0\n",
       "</text>\n",
       "<polyline fill=\"none\" opacity=\"1\" stroke=\"#000000\" stroke-width=\"1\" points=\"29,261 34,261 \"/>\n",
       "<text x=\"25\" y=\"215\" dy=\"0.5ex\" text-anchor=\"end\" font-family=\"sans-serif\" font-size=\"9.67741935483871\" opacity=\"1\" fill=\"#000000\">\n",
       "0.2\n",
       "</text>\n",
       "<polyline fill=\"none\" opacity=\"1\" stroke=\"#000000\" stroke-width=\"1\" points=\"29,215 34,215 \"/>\n",
       "<text x=\"25\" y=\"168\" dy=\"0.5ex\" text-anchor=\"end\" font-family=\"sans-serif\" font-size=\"9.67741935483871\" opacity=\"1\" fill=\"#000000\">\n",
       "0.4\n",
       "</text>\n",
       "<polyline fill=\"none\" opacity=\"1\" stroke=\"#000000\" stroke-width=\"1\" points=\"29,168 34,168 \"/>\n",
       "<text x=\"25\" y=\"122\" dy=\"0.5ex\" text-anchor=\"end\" font-family=\"sans-serif\" font-size=\"9.67741935483871\" opacity=\"1\" fill=\"#000000\">\n",
       "0.6\n",
       "</text>\n",
       "<polyline fill=\"none\" opacity=\"1\" stroke=\"#000000\" stroke-width=\"1\" points=\"29,122 34,122 \"/>\n",
       "<text x=\"25\" y=\"75\" dy=\"0.5ex\" text-anchor=\"end\" font-family=\"sans-serif\" font-size=\"9.67741935483871\" opacity=\"1\" fill=\"#000000\">\n",
       "0.8\n",
       "</text>\n",
       "<polyline fill=\"none\" opacity=\"1\" stroke=\"#000000\" stroke-width=\"1\" points=\"29,75 34,75 \"/>\n",
       "<text x=\"25\" y=\"29\" dy=\"0.5ex\" text-anchor=\"end\" font-family=\"sans-serif\" font-size=\"9.67741935483871\" opacity=\"1\" fill=\"#000000\">\n",
       "1.0\n",
       "</text>\n",
       "<polyline fill=\"none\" opacity=\"1\" stroke=\"#000000\" stroke-width=\"1\" points=\"29,29 34,29 \"/>\n",
       "<polyline fill=\"none\" opacity=\"1\" stroke=\"#000000\" stroke-width=\"1\" points=\"35,285 474,285 \"/>\n",
       "<text x=\"35\" y=\"295\" dy=\"0.76em\" text-anchor=\"middle\" font-family=\"sans-serif\" font-size=\"9.67741935483871\" opacity=\"1\" fill=\"#000000\">\n",
       "-6.0\n",
       "</text>\n",
       "<polyline fill=\"none\" opacity=\"1\" stroke=\"#000000\" stroke-width=\"1\" points=\"35,285 35,290 \"/>\n",
       "<text x=\"108\" y=\"295\" dy=\"0.76em\" text-anchor=\"middle\" font-family=\"sans-serif\" font-size=\"9.67741935483871\" opacity=\"1\" fill=\"#000000\">\n",
       "-4.0\n",
       "</text>\n",
       "<polyline fill=\"none\" opacity=\"1\" stroke=\"#000000\" stroke-width=\"1\" points=\"108,285 108,290 \"/>\n",
       "<text x=\"181\" y=\"295\" dy=\"0.76em\" text-anchor=\"middle\" font-family=\"sans-serif\" font-size=\"9.67741935483871\" opacity=\"1\" fill=\"#000000\">\n",
       "-2.0\n",
       "</text>\n",
       "<polyline fill=\"none\" opacity=\"1\" stroke=\"#000000\" stroke-width=\"1\" points=\"181,285 181,290 \"/>\n",
       "<text x=\"254\" y=\"295\" dy=\"0.76em\" text-anchor=\"middle\" font-family=\"sans-serif\" font-size=\"9.67741935483871\" opacity=\"1\" fill=\"#000000\">\n",
       "0.0\n",
       "</text>\n",
       "<polyline fill=\"none\" opacity=\"1\" stroke=\"#000000\" stroke-width=\"1\" points=\"254,285 254,290 \"/>\n",
       "<text x=\"327\" y=\"295\" dy=\"0.76em\" text-anchor=\"middle\" font-family=\"sans-serif\" font-size=\"9.67741935483871\" opacity=\"1\" fill=\"#000000\">\n",
       "2.0\n",
       "</text>\n",
       "<polyline fill=\"none\" opacity=\"1\" stroke=\"#000000\" stroke-width=\"1\" points=\"327,285 327,290 \"/>\n",
       "<text x=\"400\" y=\"295\" dy=\"0.76em\" text-anchor=\"middle\" font-family=\"sans-serif\" font-size=\"9.67741935483871\" opacity=\"1\" fill=\"#000000\">\n",
       "4.0\n",
       "</text>\n",
       "<polyline fill=\"none\" opacity=\"1\" stroke=\"#000000\" stroke-width=\"1\" points=\"400,285 400,290 \"/>\n",
       "<text x=\"474\" y=\"295\" dy=\"0.76em\" text-anchor=\"middle\" font-family=\"sans-serif\" font-size=\"9.67741935483871\" opacity=\"1\" fill=\"#000000\">\n",
       "6.0\n",
       "</text>\n",
       "<polyline fill=\"none\" opacity=\"1\" stroke=\"#000000\" stroke-width=\"1\" points=\"474,285 474,290 \"/>\n",
       "<polyline fill=\"none\" opacity=\"1\" stroke=\"#000000\" stroke-width=\"1\" points=\"71,261 75,261 78,261 82,261 86,261 89,261 93,261 97,261 100,261 104,261 108,261 111,261 115,261 119,261 122,261 126,261 130,261 133,261 137,261 141,261 144,261 148,261 152,261 155,261 159,261 163,261 166,261 170,261 174,261 177,261 181,261 184,261 188,261 192,261 195,261 199,261 203,261 206,261 210,261 214,261 217,261 221,261 225,261 228,261 232,261 236,261 239,261 243,261 247,261 250,261 254,261 258,29 261,29 265,29 269,29 272,29 276,29 280,29 283,29 287,29 291,29 294,29 298,29 302,29 305,29 309,29 313,29 316,29 320,29 324,29 327,29 331,29 334,29 338,29 342,29 345,29 349,29 353,29 356,29 360,29 364,29 367,29 371,29 375,29 378,29 382,29 386,29 389,29 393,29 397,29 400,29 404,29 408,29 411,29 415,29 419,29 422,29 426,29 430,29 433,29 \"/>\n",
       "</svg>\n",
       "</div>"
      ],
      "text/plain": [
       "()"
      ]
     },
     "execution_count": 14,
     "metadata": {},
     "output_type": "execute_result"
    }
   ],
   "source": [
    "fn simple_step(x: f32) -> i32 {\n",
    "    if x > 0. {1} else {0}\n",
    "}\n",
    "\n",
    "assert!(simple_step(0.1) == 1);\n",
    "assert!(simple_step(-0.1) == 0);\n",
    "assert!(simple_step(0.5) == 1);\n",
    "assert!(simple_step(2.3) == 1);\n",
    "\n",
    "fn step_array(arr_x: &Array1<f32>) -> Array1<f32> {\n",
    "    arr_x.map(|x| if *x > 0. {1.} else {0.})\n",
    "}\n",
    "\n",
    "assert!(step_array(&array![-1.0_f32, 1.0, 2.0]) == array![0.0_f32, 1.0, 1.0]);\n",
    "let x = Array::range(-5.0_f32, 5.0, 0.1);\n",
    "let y = step_array(&x);\n",
    "draw_figure(x, y, (-6.0, 6.0), (-0.1, 1.1))"
   ]
  },
  {
   "cell_type": "code",
   "execution_count": 15,
   "metadata": {},
   "outputs": [
    {
     "data": {
      "text/html": [
       "<div style=\"\"><svg width=\"480\" height=\"320\" viewBox=\"0 0 480 320\" xmlns=\"http://www.w3.org/2000/svg\">\n",
       "<rect x=\"0\" y=\"0\" width=\"480\" height=\"320\" opacity=\"1\" fill=\"#FFFFFF\" stroke=\"none\"/>\n",
       "<polyline fill=\"none\" opacity=\"1\" stroke=\"#000000\" stroke-width=\"1\" points=\"34,5 34,284 \"/>\n",
       "<text x=\"25\" y=\"261\" dy=\"0.5ex\" text-anchor=\"end\" font-family=\"sans-serif\" font-size=\"9.67741935483871\" opacity=\"1\" fill=\"#000000\">\n",
       "0.0\n",
       "</text>\n",
       "<polyline fill=\"none\" opacity=\"1\" stroke=\"#000000\" stroke-width=\"1\" points=\"29,261 34,261 \"/>\n",
       "<text x=\"25\" y=\"215\" dy=\"0.5ex\" text-anchor=\"end\" font-family=\"sans-serif\" font-size=\"9.67741935483871\" opacity=\"1\" fill=\"#000000\">\n",
       "0.2\n",
       "</text>\n",
       "<polyline fill=\"none\" opacity=\"1\" stroke=\"#000000\" stroke-width=\"1\" points=\"29,215 34,215 \"/>\n",
       "<text x=\"25\" y=\"168\" dy=\"0.5ex\" text-anchor=\"end\" font-family=\"sans-serif\" font-size=\"9.67741935483871\" opacity=\"1\" fill=\"#000000\">\n",
       "0.4\n",
       "</text>\n",
       "<polyline fill=\"none\" opacity=\"1\" stroke=\"#000000\" stroke-width=\"1\" points=\"29,168 34,168 \"/>\n",
       "<text x=\"25\" y=\"122\" dy=\"0.5ex\" text-anchor=\"end\" font-family=\"sans-serif\" font-size=\"9.67741935483871\" opacity=\"1\" fill=\"#000000\">\n",
       "0.6\n",
       "</text>\n",
       "<polyline fill=\"none\" opacity=\"1\" stroke=\"#000000\" stroke-width=\"1\" points=\"29,122 34,122 \"/>\n",
       "<text x=\"25\" y=\"75\" dy=\"0.5ex\" text-anchor=\"end\" font-family=\"sans-serif\" font-size=\"9.67741935483871\" opacity=\"1\" fill=\"#000000\">\n",
       "0.8\n",
       "</text>\n",
       "<polyline fill=\"none\" opacity=\"1\" stroke=\"#000000\" stroke-width=\"1\" points=\"29,75 34,75 \"/>\n",
       "<text x=\"25\" y=\"29\" dy=\"0.5ex\" text-anchor=\"end\" font-family=\"sans-serif\" font-size=\"9.67741935483871\" opacity=\"1\" fill=\"#000000\">\n",
       "1.0\n",
       "</text>\n",
       "<polyline fill=\"none\" opacity=\"1\" stroke=\"#000000\" stroke-width=\"1\" points=\"29,29 34,29 \"/>\n",
       "<polyline fill=\"none\" opacity=\"1\" stroke=\"#000000\" stroke-width=\"1\" points=\"35,285 474,285 \"/>\n",
       "<text x=\"35\" y=\"295\" dy=\"0.76em\" text-anchor=\"middle\" font-family=\"sans-serif\" font-size=\"9.67741935483871\" opacity=\"1\" fill=\"#000000\">\n",
       "-6.0\n",
       "</text>\n",
       "<polyline fill=\"none\" opacity=\"1\" stroke=\"#000000\" stroke-width=\"1\" points=\"35,285 35,290 \"/>\n",
       "<text x=\"108\" y=\"295\" dy=\"0.76em\" text-anchor=\"middle\" font-family=\"sans-serif\" font-size=\"9.67741935483871\" opacity=\"1\" fill=\"#000000\">\n",
       "-4.0\n",
       "</text>\n",
       "<polyline fill=\"none\" opacity=\"1\" stroke=\"#000000\" stroke-width=\"1\" points=\"108,285 108,290 \"/>\n",
       "<text x=\"181\" y=\"295\" dy=\"0.76em\" text-anchor=\"middle\" font-family=\"sans-serif\" font-size=\"9.67741935483871\" opacity=\"1\" fill=\"#000000\">\n",
       "-2.0\n",
       "</text>\n",
       "<polyline fill=\"none\" opacity=\"1\" stroke=\"#000000\" stroke-width=\"1\" points=\"181,285 181,290 \"/>\n",
       "<text x=\"254\" y=\"295\" dy=\"0.76em\" text-anchor=\"middle\" font-family=\"sans-serif\" font-size=\"9.67741935483871\" opacity=\"1\" fill=\"#000000\">\n",
       "0.0\n",
       "</text>\n",
       "<polyline fill=\"none\" opacity=\"1\" stroke=\"#000000\" stroke-width=\"1\" points=\"254,285 254,290 \"/>\n",
       "<text x=\"327\" y=\"295\" dy=\"0.76em\" text-anchor=\"middle\" font-family=\"sans-serif\" font-size=\"9.67741935483871\" opacity=\"1\" fill=\"#000000\">\n",
       "2.0\n",
       "</text>\n",
       "<polyline fill=\"none\" opacity=\"1\" stroke=\"#000000\" stroke-width=\"1\" points=\"327,285 327,290 \"/>\n",
       "<text x=\"400\" y=\"295\" dy=\"0.76em\" text-anchor=\"middle\" font-family=\"sans-serif\" font-size=\"9.67741935483871\" opacity=\"1\" fill=\"#000000\">\n",
       "4.0\n",
       "</text>\n",
       "<polyline fill=\"none\" opacity=\"1\" stroke=\"#000000\" stroke-width=\"1\" points=\"400,285 400,290 \"/>\n",
       "<text x=\"474\" y=\"295\" dy=\"0.76em\" text-anchor=\"middle\" font-family=\"sans-serif\" font-size=\"9.67741935483871\" opacity=\"1\" fill=\"#000000\">\n",
       "6.0\n",
       "</text>\n",
       "<polyline fill=\"none\" opacity=\"1\" stroke=\"#000000\" stroke-width=\"1\" points=\"474,285 474,290 \"/>\n",
       "<polyline fill=\"none\" opacity=\"1\" stroke=\"#000000\" stroke-width=\"1\" points=\"71,260 75,260 78,259 82,259 86,259 89,259 93,258 97,258 100,258 104,257 108,257 111,257 115,256 119,256 122,255 126,254 130,254 133,253 137,252 141,251 144,250 148,249 152,248 155,247 159,245 163,244 166,242 170,240 174,238 177,236 181,234 184,231 188,228 192,225 195,222 199,219 203,215 206,211 210,207 214,203 217,199 221,194 225,189 228,184 232,179 236,173 239,168 243,162 247,157 250,151 254,145 258,139 261,133 265,128 269,122 272,117 276,111 280,106 283,101 287,96 291,91 294,87 298,83 302,79 305,75 309,71 313,68 316,65 320,62 324,59 327,56 331,54 334,52 338,50 342,48 345,46 349,45 353,43 356,42 360,41 364,40 367,39 371,38 375,37 378,36 382,36 386,35 389,34 393,34 397,33 400,33 404,33 408,32 411,32 415,32 419,31 422,31 426,31 430,31 433,30 \"/>\n",
       "</svg>\n",
       "</div>"
      ],
      "text/plain": [
       "()"
      ]
     },
     "execution_count": 15,
     "metadata": {},
     "output_type": "execute_result"
    }
   ],
   "source": [
    "fn sigmoid_array(arr_x: &Array1<f32>) -> Array1<f32> {\n",
    "    arr_x.map(|x| 1. / (1. + (-x).exp()))\n",
    "}\n",
    "\n",
    "assert!(sigmoid_array(&array![-1.0, 1.0, 2.0]) == array![0.26894143, 0.7310586, 0.880797]);\n",
    "\n",
    "let x = Array::range(-5.0_f32, 5.0, 0.1);\n",
    "let y = sigmoid_array(&x);\n",
    "draw_figure(x, y, (-6.0, 6.0), (-0.1, 1.1))"
   ]
  },
  {
   "cell_type": "code",
   "execution_count": 16,
   "metadata": {},
   "outputs": [
    {
     "data": {
      "text/html": [
       "<div style=\"\"><svg width=\"480\" height=\"320\" viewBox=\"0 0 480 320\" xmlns=\"http://www.w3.org/2000/svg\">\n",
       "<rect x=\"0\" y=\"0\" width=\"480\" height=\"320\" opacity=\"1\" fill=\"#FFFFFF\" stroke=\"none\"/>\n",
       "<polyline fill=\"none\" opacity=\"1\" stroke=\"#000000\" stroke-width=\"1\" points=\"34,5 34,284 \"/>\n",
       "<text x=\"25\" y=\"280\" dy=\"0.5ex\" text-anchor=\"end\" font-family=\"sans-serif\" font-size=\"9.67741935483871\" opacity=\"1\" fill=\"#000000\">\n",
       "-1.0\n",
       "</text>\n",
       "<polyline fill=\"none\" opacity=\"1\" stroke=\"#000000\" stroke-width=\"1\" points=\"29,280 34,280 \"/>\n",
       "<text x=\"25\" y=\"235\" dy=\"0.5ex\" text-anchor=\"end\" font-family=\"sans-serif\" font-size=\"9.67741935483871\" opacity=\"1\" fill=\"#000000\">\n",
       "0.0\n",
       "</text>\n",
       "<polyline fill=\"none\" opacity=\"1\" stroke=\"#000000\" stroke-width=\"1\" points=\"29,235 34,235 \"/>\n",
       "<text x=\"25\" y=\"190\" dy=\"0.5ex\" text-anchor=\"end\" font-family=\"sans-serif\" font-size=\"9.67741935483871\" opacity=\"1\" fill=\"#000000\">\n",
       "1.0\n",
       "</text>\n",
       "<polyline fill=\"none\" opacity=\"1\" stroke=\"#000000\" stroke-width=\"1\" points=\"29,190 34,190 \"/>\n",
       "<text x=\"25\" y=\"145\" dy=\"0.5ex\" text-anchor=\"end\" font-family=\"sans-serif\" font-size=\"9.67741935483871\" opacity=\"1\" fill=\"#000000\">\n",
       "2.0\n",
       "</text>\n",
       "<polyline fill=\"none\" opacity=\"1\" stroke=\"#000000\" stroke-width=\"1\" points=\"29,145 34,145 \"/>\n",
       "<text x=\"25\" y=\"100\" dy=\"0.5ex\" text-anchor=\"end\" font-family=\"sans-serif\" font-size=\"9.67741935483871\" opacity=\"1\" fill=\"#000000\">\n",
       "3.0\n",
       "</text>\n",
       "<polyline fill=\"none\" opacity=\"1\" stroke=\"#000000\" stroke-width=\"1\" points=\"29,100 34,100 \"/>\n",
       "<text x=\"25\" y=\"55\" dy=\"0.5ex\" text-anchor=\"end\" font-family=\"sans-serif\" font-size=\"9.67741935483871\" opacity=\"1\" fill=\"#000000\">\n",
       "4.0\n",
       "</text>\n",
       "<polyline fill=\"none\" opacity=\"1\" stroke=\"#000000\" stroke-width=\"1\" points=\"29,55 34,55 \"/>\n",
       "<text x=\"25\" y=\"10\" dy=\"0.5ex\" text-anchor=\"end\" font-family=\"sans-serif\" font-size=\"9.67741935483871\" opacity=\"1\" fill=\"#000000\">\n",
       "5.0\n",
       "</text>\n",
       "<polyline fill=\"none\" opacity=\"1\" stroke=\"#000000\" stroke-width=\"1\" points=\"29,10 34,10 \"/>\n",
       "<polyline fill=\"none\" opacity=\"1\" stroke=\"#000000\" stroke-width=\"1\" points=\"35,285 474,285 \"/>\n",
       "<text x=\"35\" y=\"295\" dy=\"0.76em\" text-anchor=\"middle\" font-family=\"sans-serif\" font-size=\"9.67741935483871\" opacity=\"1\" fill=\"#000000\">\n",
       "-6.0\n",
       "</text>\n",
       "<polyline fill=\"none\" opacity=\"1\" stroke=\"#000000\" stroke-width=\"1\" points=\"35,285 35,290 \"/>\n",
       "<text x=\"108\" y=\"295\" dy=\"0.76em\" text-anchor=\"middle\" font-family=\"sans-serif\" font-size=\"9.67741935483871\" opacity=\"1\" fill=\"#000000\">\n",
       "-4.0\n",
       "</text>\n",
       "<polyline fill=\"none\" opacity=\"1\" stroke=\"#000000\" stroke-width=\"1\" points=\"108,285 108,290 \"/>\n",
       "<text x=\"181\" y=\"295\" dy=\"0.76em\" text-anchor=\"middle\" font-family=\"sans-serif\" font-size=\"9.67741935483871\" opacity=\"1\" fill=\"#000000\">\n",
       "-2.0\n",
       "</text>\n",
       "<polyline fill=\"none\" opacity=\"1\" stroke=\"#000000\" stroke-width=\"1\" points=\"181,285 181,290 \"/>\n",
       "<text x=\"254\" y=\"295\" dy=\"0.76em\" text-anchor=\"middle\" font-family=\"sans-serif\" font-size=\"9.67741935483871\" opacity=\"1\" fill=\"#000000\">\n",
       "0.0\n",
       "</text>\n",
       "<polyline fill=\"none\" opacity=\"1\" stroke=\"#000000\" stroke-width=\"1\" points=\"254,285 254,290 \"/>\n",
       "<text x=\"327\" y=\"295\" dy=\"0.76em\" text-anchor=\"middle\" font-family=\"sans-serif\" font-size=\"9.67741935483871\" opacity=\"1\" fill=\"#000000\">\n",
       "2.0\n",
       "</text>\n",
       "<polyline fill=\"none\" opacity=\"1\" stroke=\"#000000\" stroke-width=\"1\" points=\"327,285 327,290 \"/>\n",
       "<text x=\"400\" y=\"295\" dy=\"0.76em\" text-anchor=\"middle\" font-family=\"sans-serif\" font-size=\"9.67741935483871\" opacity=\"1\" fill=\"#000000\">\n",
       "4.0\n",
       "</text>\n",
       "<polyline fill=\"none\" opacity=\"1\" stroke=\"#000000\" stroke-width=\"1\" points=\"400,285 400,290 \"/>\n",
       "<text x=\"474\" y=\"295\" dy=\"0.76em\" text-anchor=\"middle\" font-family=\"sans-serif\" font-size=\"9.67741935483871\" opacity=\"1\" fill=\"#000000\">\n",
       "6.0\n",
       "</text>\n",
       "<polyline fill=\"none\" opacity=\"1\" stroke=\"#000000\" stroke-width=\"1\" points=\"474,285 474,290 \"/>\n",
       "<polyline fill=\"none\" opacity=\"1\" stroke=\"#000000\" stroke-width=\"1\" points=\"71,235 75,235 78,235 82,235 86,235 89,235 93,235 97,235 100,235 104,235 108,235 111,235 115,235 119,235 122,235 126,235 130,235 133,235 137,235 141,235 144,235 148,235 152,235 155,235 159,235 163,235 166,235 170,235 174,235 177,235 181,235 184,235 188,235 192,235 195,235 199,235 203,235 206,235 210,235 214,235 217,235 221,235 225,235 228,235 232,235 236,235 239,235 243,235 247,235 250,235 254,235 258,230 261,226 265,221 269,217 272,212 276,208 280,203 283,199 287,194 291,190 294,185 298,181 302,176 305,172 309,167 313,163 316,158 320,154 324,149 327,145 331,140 334,136 338,131 342,127 345,122 349,118 353,113 356,109 360,104 364,100 367,95 371,91 375,86 378,82 382,77 386,73 389,68 393,64 397,59 400,55 404,50 408,46 411,41 415,37 419,32 422,28 426,23 430,19 433,14 \"/>\n",
       "</svg>\n",
       "</div>"
      ],
      "text/plain": [
       "()"
      ]
     },
     "execution_count": 16,
     "metadata": {},
     "output_type": "execute_result"
    }
   ],
   "source": [
    "fn relu(arr_x: &Array1<f32>) -> Array1<f32> {\n",
    "    arr_x.map(|x| x.max(0.))\n",
    "}\n",
    "\n",
    "assert!(relu(&array![-1.0, 0.5, 2.0]) == array![0., 0.5, 2.0]);\n",
    "\n",
    "let x = Array::range(-5.0_f32, 5.0, 0.1);\n",
    "let y = relu(&x);\n",
    "draw_figure(x, y, (-6.0, 6.0), (-1.1, 5.1))"
   ]
  }
 ],
 "metadata": {
  "kernelspec": {
   "display_name": "Rust",
   "language": "rust",
   "name": "rust"
  },
  "language_info": {
   "codemirror_mode": "rust",
   "file_extension": ".rs",
   "mimetype": "text/rust",
   "name": "rust",
   "pygment_lexer": "rust",
   "version": ""
  },
  "orig_nbformat": 4
 },
 "nbformat": 4,
 "nbformat_minor": 2
}
