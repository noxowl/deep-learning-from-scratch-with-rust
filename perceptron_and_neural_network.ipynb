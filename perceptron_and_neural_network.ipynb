{
 "cells": [
  {
   "cell_type": "code",
   "execution_count": 2,
   "metadata": {
    "vscode": {
     "languageId": "rust"
    }
   },
   "outputs": [],
   "source": [
    ":dep ndarray = \"^0.15.0\"\n",
    ":dep ndarray-stats = \"0.5.1\"\n",
    ":dep mnist = { version = \"0.5.0\", features = [\"download\"] }\n",
    ":dep plotters = { version = \"^0.3.4\", default_features = false, features = [\"evcxr\", \"all_series\"] }\n",
    ":dep image = \"0.23\"\n",
    ":dep evcxr_image = \"1.1.0\"\n",
    "\n",
    "use ndarray::{s, array, Array, Array1, Array2, ArrayBase, Ix1, Ix2, Ix3, Zip};\n",
    "use ndarray_stats::{QuantileExt};\n",
    "use mnist::*;\n",
    "extern crate plotters;\n",
    "use plotters::prelude::*;\n",
    "use image::{ImageBuffer, RgbImage, Rgb};\n",
    "use evcxr_image::ImageDisplay;"
   ]
  },
  {
   "cell_type": "markdown",
   "metadata": {},
   "source": [
    "## Perceptron Logic gate"
   ]
  },
  {
   "cell_type": "markdown",
   "metadata": {},
   "source": [
    "$$y = \\begin{cases}0 \\quad (w_1x_1+w_2x_2\\le\\theta)\\\\1 \\quad (w_1x_2+w_2x_2>\\theta)\\end{cases}$$"
   ]
  },
  {
   "cell_type": "code",
   "execution_count": 3,
   "metadata": {
    "vscode": {
     "languageId": "rust"
    }
   },
   "outputs": [],
   "source": [
    "fn simple_AND(x1: f32, x2: f32) -> f32 {\n",
    "    let w1 = 0.5;\n",
    "    let w2 = 0.5;\n",
    "    let theta = 0.7_f32;\n",
    "    let temp = x1 * w1 + x2 * w2;\n",
    "    if temp <= theta {\n",
    "        0.0_f32\n",
    "    } else {\n",
    "        1.0_f32\n",
    "    }\n",
    "}"
   ]
  },
  {
   "cell_type": "code",
   "execution_count": 4,
   "metadata": {
    "vscode": {
     "languageId": "rust"
    }
   },
   "outputs": [],
   "source": [
    "assert!(simple_AND(0., 0.) == 0.);\n",
    "assert!(simple_AND(1., 0.) == 0.);\n",
    "assert!(simple_AND(0., 1.) == 0.);\n",
    "assert!(simple_AND(1., 1.) == 1.);"
   ]
  },
  {
   "cell_type": "markdown",
   "metadata": {},
   "source": [
    "$$y = \\begin{cases}0 \\quad (b+w_1x_1+w_2x_2\\le0)\\\\1 \\quad (b+w_1x_2+w_2x_2>0)\\end{cases}$$"
   ]
  },
  {
   "cell_type": "markdown",
   "metadata": {},
   "source": [
    "$$y = h(b+w_1x_1+w_2x_2)$$"
   ]
  },
  {
   "cell_type": "markdown",
   "metadata": {},
   "source": [
    "$$h(x) = \\begin{cases}0 \\quad (x\\le0)\\\\1 \\quad (x>0)\\end{cases}$$"
   ]
  },
  {
   "cell_type": "code",
   "execution_count": 5,
   "metadata": {
    "vscode": {
     "languageId": "rust"
    }
   },
   "outputs": [],
   "source": [
    "fn AND(x1: f32, x2: f32) -> f32 {\n",
    "    let x = array![x1, x2];\n",
    "    let weight = array![0.5_f32, 0.5];\n",
    "    let bias = -0.7_f32;\n",
    "    let temp = x.dot(&weight) + bias;\n",
    "    if temp <= 0. {\n",
    "        0.0_f32\n",
    "    } else {\n",
    "        1.0_f32\n",
    "    }\n",
    "}"
   ]
  },
  {
   "cell_type": "code",
   "execution_count": 6,
   "metadata": {
    "vscode": {
     "languageId": "rust"
    }
   },
   "outputs": [],
   "source": [
    "assert!(AND(0., 0.) == 0.);\n",
    "assert!(AND(1., 0.) == 0.);\n",
    "assert!(AND(0., 1.) == 0.);\n",
    "assert!(AND(1., 1.) == 1.);"
   ]
  },
  {
   "cell_type": "code",
   "execution_count": 7,
   "metadata": {
    "vscode": {
     "languageId": "rust"
    }
   },
   "outputs": [],
   "source": [
    "fn NAND(x1: f32, x2: f32) -> f32 {\n",
    "    let x = array![x1, x2];\n",
    "    let weight = array![-0.5_f32, -0.5];\n",
    "    let bias = 0.7_f32;\n",
    "    let temp = x.dot(&weight) + bias;\n",
    "    if temp <= 0. {\n",
    "        0.0_f32\n",
    "    } else {\n",
    "        1.0_f32\n",
    "    }\n",
    "}"
   ]
  },
  {
   "cell_type": "code",
   "execution_count": 8,
   "metadata": {
    "vscode": {
     "languageId": "rust"
    }
   },
   "outputs": [],
   "source": [
    "assert!(NAND(0., 0.) == 1.);\n",
    "assert!(NAND(1., 0.) == 1.);\n",
    "assert!(NAND(0., 1.) == 1.);\n",
    "assert!(NAND(1., 1.) == 0.);"
   ]
  },
  {
   "cell_type": "code",
   "execution_count": 9,
   "metadata": {
    "vscode": {
     "languageId": "rust"
    }
   },
   "outputs": [],
   "source": [
    "fn OR(x1: f32, x2: f32) -> f32 {\n",
    "    let x = array![x1, x2];\n",
    "    let weight = array![0.5_f32, 0.5];\n",
    "    let bias = -0.2_f32;\n",
    "    let temp = x.dot(&weight) + bias;\n",
    "    if temp <= 0. {\n",
    "        0.0_f32\n",
    "    } else {\n",
    "        1.0_f32\n",
    "    }\n",
    "}"
   ]
  },
  {
   "cell_type": "code",
   "execution_count": 10,
   "metadata": {
    "vscode": {
     "languageId": "rust"
    }
   },
   "outputs": [],
   "source": [
    "assert!(OR(0., 0.) == 0.);\n",
    "assert!(OR(1., 0.) == 1.);\n",
    "assert!(OR(0., 1.) == 1.);\n",
    "assert!(OR(1., 1.) == 1.);"
   ]
  },
  {
   "cell_type": "code",
   "execution_count": 11,
   "metadata": {
    "vscode": {
     "languageId": "rust"
    }
   },
   "outputs": [],
   "source": [
    "fn XOR(x1: f32, x2: f32) -> f32 {\n",
    "    let s1 = NAND(x1, x2);\n",
    "    let s2 = OR(x1, x2);\n",
    "    AND(s1, s2)\n",
    "}"
   ]
  },
  {
   "cell_type": "code",
   "execution_count": 12,
   "metadata": {
    "vscode": {
     "languageId": "rust"
    }
   },
   "outputs": [],
   "source": [
    "assert!(XOR(0., 0.) == 0.);\n",
    "assert!(XOR(1., 0.) == 1.);\n",
    "assert!(XOR(0., 1.) == 1.);\n",
    "assert!(XOR(1., 1.) == 0.);"
   ]
  },
  {
   "cell_type": "markdown",
   "metadata": {},
   "source": [
    "## Activation Function"
   ]
  },
  {
   "cell_type": "markdown",
   "metadata": {},
   "source": [
    "$$a=b+x_1x_1+w_2x_2$$"
   ]
  },
  {
   "cell_type": "markdown",
   "metadata": {},
   "source": [
    "$$y=h(a)$$"
   ]
  },
  {
   "cell_type": "code",
   "execution_count": 13,
   "metadata": {
    "vscode": {
     "languageId": "rust"
    }
   },
   "outputs": [],
   "source": [
    "fn draw_figure(mut x_data: Array1<f32>, y_data: Array1<f32>, xlim: (f32, f32), ylim: (f32, f32)) {\n",
    "    evcxr_figure((480, 320), |root| {\n",
    "        root.fill(&WHITE)?;\n",
    "        let mut chart = ChartBuilder::on(&root)\n",
    "        .margin(5)\n",
    "        .x_label_area_size(30)\n",
    "        .y_label_area_size(30)\n",
    "        .build_cartesian_2d(xlim.0..xlim.1, ylim.0..ylim.1)?;\n",
    "\n",
    "        chart.configure_mesh().disable_mesh().draw()?;\n",
    "\n",
    "        chart.draw_series(LineSeries::new(\n",
    "            Zip::from(&mut x_data).and(&y_data).map_collect(|x, y| (*x, *y)),\n",
    "            &BLACK\n",
    "        ));\n",
    "        Ok(())\n",
    "    }).evcxr_display()\n",
    "}"
   ]
  },
  {
   "cell_type": "code",
   "execution_count": 14,
   "metadata": {
    "vscode": {
     "languageId": "rust"
    }
   },
   "outputs": [
    {
     "data": {
      "text/html": [
       "<div style=\"\"><svg width=\"480\" height=\"320\" viewBox=\"0 0 480 320\" xmlns=\"http://www.w3.org/2000/svg\">\n",
       "<rect x=\"0\" y=\"0\" width=\"480\" height=\"320\" opacity=\"1\" fill=\"#FFFFFF\" stroke=\"none\"/>\n",
       "<polyline fill=\"none\" opacity=\"1\" stroke=\"#000000\" stroke-width=\"1\" points=\"34,5 34,284 \"/>\n",
       "<text x=\"25\" y=\"261\" dy=\"0.5ex\" text-anchor=\"end\" font-family=\"sans-serif\" font-size=\"9.67741935483871\" opacity=\"1\" fill=\"#000000\">\n",
       "0.0\n",
       "</text>\n",
       "<polyline fill=\"none\" opacity=\"1\" stroke=\"#000000\" stroke-width=\"1\" points=\"29,261 34,261 \"/>\n",
       "<text x=\"25\" y=\"215\" dy=\"0.5ex\" text-anchor=\"end\" font-family=\"sans-serif\" font-size=\"9.67741935483871\" opacity=\"1\" fill=\"#000000\">\n",
       "0.2\n",
       "</text>\n",
       "<polyline fill=\"none\" opacity=\"1\" stroke=\"#000000\" stroke-width=\"1\" points=\"29,215 34,215 \"/>\n",
       "<text x=\"25\" y=\"168\" dy=\"0.5ex\" text-anchor=\"end\" font-family=\"sans-serif\" font-size=\"9.67741935483871\" opacity=\"1\" fill=\"#000000\">\n",
       "0.4\n",
       "</text>\n",
       "<polyline fill=\"none\" opacity=\"1\" stroke=\"#000000\" stroke-width=\"1\" points=\"29,168 34,168 \"/>\n",
       "<text x=\"25\" y=\"122\" dy=\"0.5ex\" text-anchor=\"end\" font-family=\"sans-serif\" font-size=\"9.67741935483871\" opacity=\"1\" fill=\"#000000\">\n",
       "0.6\n",
       "</text>\n",
       "<polyline fill=\"none\" opacity=\"1\" stroke=\"#000000\" stroke-width=\"1\" points=\"29,122 34,122 \"/>\n",
       "<text x=\"25\" y=\"75\" dy=\"0.5ex\" text-anchor=\"end\" font-family=\"sans-serif\" font-size=\"9.67741935483871\" opacity=\"1\" fill=\"#000000\">\n",
       "0.8\n",
       "</text>\n",
       "<polyline fill=\"none\" opacity=\"1\" stroke=\"#000000\" stroke-width=\"1\" points=\"29,75 34,75 \"/>\n",
       "<text x=\"25\" y=\"29\" dy=\"0.5ex\" text-anchor=\"end\" font-family=\"sans-serif\" font-size=\"9.67741935483871\" opacity=\"1\" fill=\"#000000\">\n",
       "1.0\n",
       "</text>\n",
       "<polyline fill=\"none\" opacity=\"1\" stroke=\"#000000\" stroke-width=\"1\" points=\"29,29 34,29 \"/>\n",
       "<polyline fill=\"none\" opacity=\"1\" stroke=\"#000000\" stroke-width=\"1\" points=\"35,285 474,285 \"/>\n",
       "<text x=\"35\" y=\"295\" dy=\"0.76em\" text-anchor=\"middle\" font-family=\"sans-serif\" font-size=\"9.67741935483871\" opacity=\"1\" fill=\"#000000\">\n",
       "-6.0\n",
       "</text>\n",
       "<polyline fill=\"none\" opacity=\"1\" stroke=\"#000000\" stroke-width=\"1\" points=\"35,285 35,290 \"/>\n",
       "<text x=\"108\" y=\"295\" dy=\"0.76em\" text-anchor=\"middle\" font-family=\"sans-serif\" font-size=\"9.67741935483871\" opacity=\"1\" fill=\"#000000\">\n",
       "-4.0\n",
       "</text>\n",
       "<polyline fill=\"none\" opacity=\"1\" stroke=\"#000000\" stroke-width=\"1\" points=\"108,285 108,290 \"/>\n",
       "<text x=\"181\" y=\"295\" dy=\"0.76em\" text-anchor=\"middle\" font-family=\"sans-serif\" font-size=\"9.67741935483871\" opacity=\"1\" fill=\"#000000\">\n",
       "-2.0\n",
       "</text>\n",
       "<polyline fill=\"none\" opacity=\"1\" stroke=\"#000000\" stroke-width=\"1\" points=\"181,285 181,290 \"/>\n",
       "<text x=\"254\" y=\"295\" dy=\"0.76em\" text-anchor=\"middle\" font-family=\"sans-serif\" font-size=\"9.67741935483871\" opacity=\"1\" fill=\"#000000\">\n",
       "0.0\n",
       "</text>\n",
       "<polyline fill=\"none\" opacity=\"1\" stroke=\"#000000\" stroke-width=\"1\" points=\"254,285 254,290 \"/>\n",
       "<text x=\"327\" y=\"295\" dy=\"0.76em\" text-anchor=\"middle\" font-family=\"sans-serif\" font-size=\"9.67741935483871\" opacity=\"1\" fill=\"#000000\">\n",
       "2.0\n",
       "</text>\n",
       "<polyline fill=\"none\" opacity=\"1\" stroke=\"#000000\" stroke-width=\"1\" points=\"327,285 327,290 \"/>\n",
       "<text x=\"400\" y=\"295\" dy=\"0.76em\" text-anchor=\"middle\" font-family=\"sans-serif\" font-size=\"9.67741935483871\" opacity=\"1\" fill=\"#000000\">\n",
       "4.0\n",
       "</text>\n",
       "<polyline fill=\"none\" opacity=\"1\" stroke=\"#000000\" stroke-width=\"1\" points=\"400,285 400,290 \"/>\n",
       "<text x=\"474\" y=\"295\" dy=\"0.76em\" text-anchor=\"middle\" font-family=\"sans-serif\" font-size=\"9.67741935483871\" opacity=\"1\" fill=\"#000000\">\n",
       "6.0\n",
       "</text>\n",
       "<polyline fill=\"none\" opacity=\"1\" stroke=\"#000000\" stroke-width=\"1\" points=\"474,285 474,290 \"/>\n",
       "<polyline fill=\"none\" opacity=\"1\" stroke=\"#000000\" stroke-width=\"1\" points=\"71,261 75,261 78,261 82,261 86,261 89,261 93,261 97,261 100,261 104,261 108,261 111,261 115,261 119,261 122,261 126,261 130,261 133,261 137,261 141,261 144,261 148,261 152,261 155,261 159,261 163,261 166,261 170,261 174,261 177,261 181,261 184,261 188,261 192,261 195,261 199,261 203,261 206,261 210,261 214,261 217,261 221,261 225,261 228,261 232,261 236,261 239,261 243,261 247,261 250,261 254,261 258,29 261,29 265,29 269,29 272,29 276,29 280,29 283,29 287,29 291,29 294,29 298,29 302,29 305,29 309,29 313,29 316,29 320,29 324,29 327,29 331,29 334,29 338,29 342,29 345,29 349,29 353,29 356,29 360,29 364,29 367,29 371,29 375,29 378,29 382,29 386,29 389,29 393,29 397,29 400,29 404,29 408,29 411,29 415,29 419,29 422,29 426,29 430,29 433,29 \"/>\n",
       "</svg>\n",
       "</div>"
      ],
      "text/plain": [
       "()"
      ]
     },
     "execution_count": 14,
     "metadata": {},
     "output_type": "execute_result"
    }
   ],
   "source": [
    "fn simple_step(x: f32) -> i32 {\n",
    "    if x > 0. {1} else {0}\n",
    "}\n",
    "\n",
    "assert!(simple_step(0.1) == 1);\n",
    "assert!(simple_step(-0.1) == 0);\n",
    "assert!(simple_step(0.5) == 1);\n",
    "assert!(simple_step(2.3) == 1);\n",
    "\n",
    "fn step_array(arr_x: &Array1<f32>) -> Array1<f32> {\n",
    "    arr_x.map(|x| if *x > 0. {1.} else {0.})\n",
    "}\n",
    "\n",
    "assert!(step_array(&array![-1.0_f32, 1.0, 2.0]) == array![0.0_f32, 1.0, 1.0]);\n",
    "let x = Array::range(-5.0_f32, 5.0, 0.1);\n",
    "let y = step_array(&x);\n",
    "draw_figure(x, y, (-6.0, 6.0), (-0.1, 1.1))"
   ]
  },
  {
   "cell_type": "code",
   "execution_count": 15,
   "metadata": {
    "vscode": {
     "languageId": "rust"
    }
   },
   "outputs": [
    {
     "data": {
      "text/html": [
       "<div style=\"\"><svg width=\"480\" height=\"320\" viewBox=\"0 0 480 320\" xmlns=\"http://www.w3.org/2000/svg\">\n",
       "<rect x=\"0\" y=\"0\" width=\"480\" height=\"320\" opacity=\"1\" fill=\"#FFFFFF\" stroke=\"none\"/>\n",
       "<polyline fill=\"none\" opacity=\"1\" stroke=\"#000000\" stroke-width=\"1\" points=\"34,5 34,284 \"/>\n",
       "<text x=\"25\" y=\"261\" dy=\"0.5ex\" text-anchor=\"end\" font-family=\"sans-serif\" font-size=\"9.67741935483871\" opacity=\"1\" fill=\"#000000\">\n",
       "0.0\n",
       "</text>\n",
       "<polyline fill=\"none\" opacity=\"1\" stroke=\"#000000\" stroke-width=\"1\" points=\"29,261 34,261 \"/>\n",
       "<text x=\"25\" y=\"215\" dy=\"0.5ex\" text-anchor=\"end\" font-family=\"sans-serif\" font-size=\"9.67741935483871\" opacity=\"1\" fill=\"#000000\">\n",
       "0.2\n",
       "</text>\n",
       "<polyline fill=\"none\" opacity=\"1\" stroke=\"#000000\" stroke-width=\"1\" points=\"29,215 34,215 \"/>\n",
       "<text x=\"25\" y=\"168\" dy=\"0.5ex\" text-anchor=\"end\" font-family=\"sans-serif\" font-size=\"9.67741935483871\" opacity=\"1\" fill=\"#000000\">\n",
       "0.4\n",
       "</text>\n",
       "<polyline fill=\"none\" opacity=\"1\" stroke=\"#000000\" stroke-width=\"1\" points=\"29,168 34,168 \"/>\n",
       "<text x=\"25\" y=\"122\" dy=\"0.5ex\" text-anchor=\"end\" font-family=\"sans-serif\" font-size=\"9.67741935483871\" opacity=\"1\" fill=\"#000000\">\n",
       "0.6\n",
       "</text>\n",
       "<polyline fill=\"none\" opacity=\"1\" stroke=\"#000000\" stroke-width=\"1\" points=\"29,122 34,122 \"/>\n",
       "<text x=\"25\" y=\"75\" dy=\"0.5ex\" text-anchor=\"end\" font-family=\"sans-serif\" font-size=\"9.67741935483871\" opacity=\"1\" fill=\"#000000\">\n",
       "0.8\n",
       "</text>\n",
       "<polyline fill=\"none\" opacity=\"1\" stroke=\"#000000\" stroke-width=\"1\" points=\"29,75 34,75 \"/>\n",
       "<text x=\"25\" y=\"29\" dy=\"0.5ex\" text-anchor=\"end\" font-family=\"sans-serif\" font-size=\"9.67741935483871\" opacity=\"1\" fill=\"#000000\">\n",
       "1.0\n",
       "</text>\n",
       "<polyline fill=\"none\" opacity=\"1\" stroke=\"#000000\" stroke-width=\"1\" points=\"29,29 34,29 \"/>\n",
       "<polyline fill=\"none\" opacity=\"1\" stroke=\"#000000\" stroke-width=\"1\" points=\"35,285 474,285 \"/>\n",
       "<text x=\"35\" y=\"295\" dy=\"0.76em\" text-anchor=\"middle\" font-family=\"sans-serif\" font-size=\"9.67741935483871\" opacity=\"1\" fill=\"#000000\">\n",
       "-6.0\n",
       "</text>\n",
       "<polyline fill=\"none\" opacity=\"1\" stroke=\"#000000\" stroke-width=\"1\" points=\"35,285 35,290 \"/>\n",
       "<text x=\"108\" y=\"295\" dy=\"0.76em\" text-anchor=\"middle\" font-family=\"sans-serif\" font-size=\"9.67741935483871\" opacity=\"1\" fill=\"#000000\">\n",
       "-4.0\n",
       "</text>\n",
       "<polyline fill=\"none\" opacity=\"1\" stroke=\"#000000\" stroke-width=\"1\" points=\"108,285 108,290 \"/>\n",
       "<text x=\"181\" y=\"295\" dy=\"0.76em\" text-anchor=\"middle\" font-family=\"sans-serif\" font-size=\"9.67741935483871\" opacity=\"1\" fill=\"#000000\">\n",
       "-2.0\n",
       "</text>\n",
       "<polyline fill=\"none\" opacity=\"1\" stroke=\"#000000\" stroke-width=\"1\" points=\"181,285 181,290 \"/>\n",
       "<text x=\"254\" y=\"295\" dy=\"0.76em\" text-anchor=\"middle\" font-family=\"sans-serif\" font-size=\"9.67741935483871\" opacity=\"1\" fill=\"#000000\">\n",
       "0.0\n",
       "</text>\n",
       "<polyline fill=\"none\" opacity=\"1\" stroke=\"#000000\" stroke-width=\"1\" points=\"254,285 254,290 \"/>\n",
       "<text x=\"327\" y=\"295\" dy=\"0.76em\" text-anchor=\"middle\" font-family=\"sans-serif\" font-size=\"9.67741935483871\" opacity=\"1\" fill=\"#000000\">\n",
       "2.0\n",
       "</text>\n",
       "<polyline fill=\"none\" opacity=\"1\" stroke=\"#000000\" stroke-width=\"1\" points=\"327,285 327,290 \"/>\n",
       "<text x=\"400\" y=\"295\" dy=\"0.76em\" text-anchor=\"middle\" font-family=\"sans-serif\" font-size=\"9.67741935483871\" opacity=\"1\" fill=\"#000000\">\n",
       "4.0\n",
       "</text>\n",
       "<polyline fill=\"none\" opacity=\"1\" stroke=\"#000000\" stroke-width=\"1\" points=\"400,285 400,290 \"/>\n",
       "<text x=\"474\" y=\"295\" dy=\"0.76em\" text-anchor=\"middle\" font-family=\"sans-serif\" font-size=\"9.67741935483871\" opacity=\"1\" fill=\"#000000\">\n",
       "6.0\n",
       "</text>\n",
       "<polyline fill=\"none\" opacity=\"1\" stroke=\"#000000\" stroke-width=\"1\" points=\"474,285 474,290 \"/>\n",
       "<polyline fill=\"none\" opacity=\"1\" stroke=\"#000000\" stroke-width=\"1\" points=\"71,260 75,260 78,259 82,259 86,259 89,259 93,258 97,258 100,258 104,257 108,257 111,257 115,256 119,256 122,255 126,254 130,254 133,253 137,252 141,251 144,250 148,249 152,248 155,247 159,245 163,244 166,242 170,240 174,238 177,236 181,234 184,231 188,228 192,225 195,222 199,219 203,215 206,211 210,207 214,203 217,199 221,194 225,189 228,184 232,179 236,173 239,168 243,162 247,157 250,151 254,145 258,139 261,133 265,128 269,122 272,117 276,111 280,106 283,101 287,96 291,91 294,87 298,83 302,79 305,75 309,71 313,68 316,65 320,62 324,59 327,56 331,54 334,52 338,50 342,48 345,46 349,45 353,43 356,42 360,41 364,40 367,39 371,38 375,37 378,36 382,36 386,35 389,34 393,34 397,33 400,33 404,33 408,32 411,32 415,32 419,31 422,31 426,31 430,31 433,30 \"/>\n",
       "</svg>\n",
       "</div>"
      ],
      "text/plain": [
       "()"
      ]
     },
     "execution_count": 15,
     "metadata": {},
     "output_type": "execute_result"
    }
   ],
   "source": [
    "fn sigmoid_array(arr_x: &Array1<f32>) -> Array1<f32> {\n",
    "    arr_x.map(|x| 1. / (1. + (-x).exp()))\n",
    "}\n",
    "\n",
    "assert!(sigmoid_array(&array![-1.0, 1.0, 2.0]) == array![0.26894143, 0.7310586, 0.880797]);\n",
    "\n",
    "let x = Array::range(-5.0_f32, 5.0, 0.1);\n",
    "let y = sigmoid_array(&x);\n",
    "draw_figure(x, y, (-6.0, 6.0), (-0.1, 1.1))"
   ]
  },
  {
   "cell_type": "code",
   "execution_count": 16,
   "metadata": {
    "vscode": {
     "languageId": "rust"
    }
   },
   "outputs": [
    {
     "data": {
      "text/html": [
       "<div style=\"\"><svg width=\"480\" height=\"320\" viewBox=\"0 0 480 320\" xmlns=\"http://www.w3.org/2000/svg\">\n",
       "<rect x=\"0\" y=\"0\" width=\"480\" height=\"320\" opacity=\"1\" fill=\"#FFFFFF\" stroke=\"none\"/>\n",
       "<polyline fill=\"none\" opacity=\"1\" stroke=\"#000000\" stroke-width=\"1\" points=\"34,5 34,284 \"/>\n",
       "<text x=\"25\" y=\"280\" dy=\"0.5ex\" text-anchor=\"end\" font-family=\"sans-serif\" font-size=\"9.67741935483871\" opacity=\"1\" fill=\"#000000\">\n",
       "-1.0\n",
       "</text>\n",
       "<polyline fill=\"none\" opacity=\"1\" stroke=\"#000000\" stroke-width=\"1\" points=\"29,280 34,280 \"/>\n",
       "<text x=\"25\" y=\"235\" dy=\"0.5ex\" text-anchor=\"end\" font-family=\"sans-serif\" font-size=\"9.67741935483871\" opacity=\"1\" fill=\"#000000\">\n",
       "0.0\n",
       "</text>\n",
       "<polyline fill=\"none\" opacity=\"1\" stroke=\"#000000\" stroke-width=\"1\" points=\"29,235 34,235 \"/>\n",
       "<text x=\"25\" y=\"190\" dy=\"0.5ex\" text-anchor=\"end\" font-family=\"sans-serif\" font-size=\"9.67741935483871\" opacity=\"1\" fill=\"#000000\">\n",
       "1.0\n",
       "</text>\n",
       "<polyline fill=\"none\" opacity=\"1\" stroke=\"#000000\" stroke-width=\"1\" points=\"29,190 34,190 \"/>\n",
       "<text x=\"25\" y=\"145\" dy=\"0.5ex\" text-anchor=\"end\" font-family=\"sans-serif\" font-size=\"9.67741935483871\" opacity=\"1\" fill=\"#000000\">\n",
       "2.0\n",
       "</text>\n",
       "<polyline fill=\"none\" opacity=\"1\" stroke=\"#000000\" stroke-width=\"1\" points=\"29,145 34,145 \"/>\n",
       "<text x=\"25\" y=\"100\" dy=\"0.5ex\" text-anchor=\"end\" font-family=\"sans-serif\" font-size=\"9.67741935483871\" opacity=\"1\" fill=\"#000000\">\n",
       "3.0\n",
       "</text>\n",
       "<polyline fill=\"none\" opacity=\"1\" stroke=\"#000000\" stroke-width=\"1\" points=\"29,100 34,100 \"/>\n",
       "<text x=\"25\" y=\"55\" dy=\"0.5ex\" text-anchor=\"end\" font-family=\"sans-serif\" font-size=\"9.67741935483871\" opacity=\"1\" fill=\"#000000\">\n",
       "4.0\n",
       "</text>\n",
       "<polyline fill=\"none\" opacity=\"1\" stroke=\"#000000\" stroke-width=\"1\" points=\"29,55 34,55 \"/>\n",
       "<text x=\"25\" y=\"10\" dy=\"0.5ex\" text-anchor=\"end\" font-family=\"sans-serif\" font-size=\"9.67741935483871\" opacity=\"1\" fill=\"#000000\">\n",
       "5.0\n",
       "</text>\n",
       "<polyline fill=\"none\" opacity=\"1\" stroke=\"#000000\" stroke-width=\"1\" points=\"29,10 34,10 \"/>\n",
       "<polyline fill=\"none\" opacity=\"1\" stroke=\"#000000\" stroke-width=\"1\" points=\"35,285 474,285 \"/>\n",
       "<text x=\"35\" y=\"295\" dy=\"0.76em\" text-anchor=\"middle\" font-family=\"sans-serif\" font-size=\"9.67741935483871\" opacity=\"1\" fill=\"#000000\">\n",
       "-6.0\n",
       "</text>\n",
       "<polyline fill=\"none\" opacity=\"1\" stroke=\"#000000\" stroke-width=\"1\" points=\"35,285 35,290 \"/>\n",
       "<text x=\"108\" y=\"295\" dy=\"0.76em\" text-anchor=\"middle\" font-family=\"sans-serif\" font-size=\"9.67741935483871\" opacity=\"1\" fill=\"#000000\">\n",
       "-4.0\n",
       "</text>\n",
       "<polyline fill=\"none\" opacity=\"1\" stroke=\"#000000\" stroke-width=\"1\" points=\"108,285 108,290 \"/>\n",
       "<text x=\"181\" y=\"295\" dy=\"0.76em\" text-anchor=\"middle\" font-family=\"sans-serif\" font-size=\"9.67741935483871\" opacity=\"1\" fill=\"#000000\">\n",
       "-2.0\n",
       "</text>\n",
       "<polyline fill=\"none\" opacity=\"1\" stroke=\"#000000\" stroke-width=\"1\" points=\"181,285 181,290 \"/>\n",
       "<text x=\"254\" y=\"295\" dy=\"0.76em\" text-anchor=\"middle\" font-family=\"sans-serif\" font-size=\"9.67741935483871\" opacity=\"1\" fill=\"#000000\">\n",
       "0.0\n",
       "</text>\n",
       "<polyline fill=\"none\" opacity=\"1\" stroke=\"#000000\" stroke-width=\"1\" points=\"254,285 254,290 \"/>\n",
       "<text x=\"327\" y=\"295\" dy=\"0.76em\" text-anchor=\"middle\" font-family=\"sans-serif\" font-size=\"9.67741935483871\" opacity=\"1\" fill=\"#000000\">\n",
       "2.0\n",
       "</text>\n",
       "<polyline fill=\"none\" opacity=\"1\" stroke=\"#000000\" stroke-width=\"1\" points=\"327,285 327,290 \"/>\n",
       "<text x=\"400\" y=\"295\" dy=\"0.76em\" text-anchor=\"middle\" font-family=\"sans-serif\" font-size=\"9.67741935483871\" opacity=\"1\" fill=\"#000000\">\n",
       "4.0\n",
       "</text>\n",
       "<polyline fill=\"none\" opacity=\"1\" stroke=\"#000000\" stroke-width=\"1\" points=\"400,285 400,290 \"/>\n",
       "<text x=\"474\" y=\"295\" dy=\"0.76em\" text-anchor=\"middle\" font-family=\"sans-serif\" font-size=\"9.67741935483871\" opacity=\"1\" fill=\"#000000\">\n",
       "6.0\n",
       "</text>\n",
       "<polyline fill=\"none\" opacity=\"1\" stroke=\"#000000\" stroke-width=\"1\" points=\"474,285 474,290 \"/>\n",
       "<polyline fill=\"none\" opacity=\"1\" stroke=\"#000000\" stroke-width=\"1\" points=\"71,235 75,235 78,235 82,235 86,235 89,235 93,235 97,235 100,235 104,235 108,235 111,235 115,235 119,235 122,235 126,235 130,235 133,235 137,235 141,235 144,235 148,235 152,235 155,235 159,235 163,235 166,235 170,235 174,235 177,235 181,235 184,235 188,235 192,235 195,235 199,235 203,235 206,235 210,235 214,235 217,235 221,235 225,235 228,235 232,235 236,235 239,235 243,235 247,235 250,235 254,235 258,230 261,226 265,221 269,217 272,212 276,208 280,203 283,199 287,194 291,190 294,185 298,181 302,176 305,172 309,167 313,163 316,158 320,154 324,149 327,145 331,140 334,136 338,131 342,127 345,122 349,118 353,113 356,109 360,104 364,100 367,95 371,91 375,86 378,82 382,77 386,73 389,68 393,64 397,59 400,55 404,50 408,46 411,41 415,37 419,32 422,28 426,23 430,19 433,14 \"/>\n",
       "</svg>\n",
       "</div>"
      ],
      "text/plain": [
       "()"
      ]
     },
     "execution_count": 16,
     "metadata": {},
     "output_type": "execute_result"
    }
   ],
   "source": [
    "fn relu(arr_x: &Array1<f32>) -> Array1<f32> {\n",
    "    arr_x.map(|x| x.max(0.))\n",
    "}\n",
    "\n",
    "assert!(relu(&array![-1.0, 0.5, 2.0]) == array![0., 0.5, 2.0]);\n",
    "\n",
    "let x = Array::range(-5.0_f32, 5.0, 0.1);\n",
    "let y = relu(&x);\n",
    "draw_figure(x, y, (-6.0, 6.0), (-1.1, 5.1))"
   ]
  },
  {
   "cell_type": "markdown",
   "metadata": {},
   "source": [
    "## Multi-dimensional array calculation"
   ]
  },
  {
   "cell_type": "code",
   "execution_count": 17,
   "metadata": {
    "vscode": {
     "languageId": "rust"
    }
   },
   "outputs": [
    {
     "name": "stdout",
     "output_type": "stream",
     "text": [
      "[1, 2, 3, 4]\n",
      "1\n"
     ]
    }
   ],
   "source": [
    "let A = array![1, 2, 3, 4];\n",
    "println!(\"{}\", &A);\n",
    "println!(\"{}\", &A.ndim());\n",
    "println!(\"{:?}\", &A.shape());\n",
    "println!(\"{}\", &A.shape().get(0).unwrap());\n",
    "println!(\"{}\", &A.dim());"
   ]
  },
  {
   "cell_type": "code",
   "execution_count": 18,
   "metadata": {
    "vscode": {
     "languageId": "rust"
    }
   },
   "outputs": [
    {
     "name": "stdout",
     "output_type": "stream",
     "text": [
      "[[1, 2],\n"
     ]
    }
   ],
   "source": [
    "let B = array![[1, 2], [3, 4], [5, 6]];\n",
    "println!(\"{}\", &B);\n",
    "println!(\"{}\", &B.ndim());\n",
    "println!(\"{:?}\", &B.dim());\n",
    "println!(\"{:?}\", &B.shape());"
   ]
  },
  {
   "cell_type": "code",
   "execution_count": 19,
   "metadata": {
    "vscode": {
     "languageId": "rust"
    }
   },
   "outputs": [],
   "source": [
    "let A = array![[1, 2], [3, 4]];\n",
    "println!(\"{:?}\", &A.shape());\n",
    "let B = array![[5, 6], [7, 8]];\n",
    "println!(\"{:?}\", &B.shape());\n",
    "println!(\"{}\", &A.dot(&B));"
   ]
  },
  {
   "cell_type": "code",
   "execution_count": 20,
   "metadata": {
    "vscode": {
     "languageId": "rust"
    }
   },
   "outputs": [
    {
     "name": "stdout",
     "output_type": "stream",
     "text": [
      "[2, 3]\n"
     ]
    }
   ],
   "source": [
    "let A = array![[1, 2, 3], [4, 5, 6]];\n",
    "println!(\"{:?}\", &A.shape());\n",
    "let B = array![[1, 2], [3, 4], [5, 6]];\n",
    "println!(\"{:?}\", &B.shape());\n",
    "println!(\"{}\", &A.dot(&B));"
   ]
  },
  {
   "cell_type": "code",
   "execution_count": 21,
   "metadata": {
    "vscode": {
     "languageId": "rust"
    }
   },
   "outputs": [],
   "source": [
    "let C = array![[1, 2], [3, 4]];\n",
    "println!(\"{:?}\", &C.shape());\n",
    "println!(\"{:?}\", &A.shape());"
   ]
  },
  {
   "cell_type": "code",
   "execution_count": 22,
   "metadata": {
    "vscode": {
     "languageId": "rust"
    }
   },
   "outputs": [
    {
     "name": "stderr",
     "output_type": "stream",
     "text": [
      "thread '<unnamed>' panicked at 'ndarray: inputs 2 × 3 and 2 × 2 are not compatible for matrix multiplication', /home/noxowl/.cargo/registry/src/github.com-1ecc6299db9ec823/ndarray-0.15.6/src/linalg/impl_linalg.rs:299:5\n",
      "stack backtrace:\n",
      "   0: rust_begin_unwind\n",
      "             at /rustc/897e37553bba8b42751c67658967889d11ecd120/library/std/src/panicking.rs:584:5\n",
      "   1: core::panicking::panic_fmt\n",
      "             at /rustc/897e37553bba8b42751c67658967889d11ecd120/library/core/src/panicking.rs:142:14\n",
      "   2: ndarray::linalg::impl_linalg::dot_shape_error\n",
      "   3: ndarray::linalg::impl_linalg::<impl ndarray::ArrayBase<S,ndarray::dimension::dim::Dim<[usize; 2]>>>::dot\n",
      "   4: <core::panic::unwind_safe::AssertUnwindSafe<F> as core::ops::function::FnOnce<()>>::call_once\n",
      "   5: run_user_code_21\n",
      "   6: evcxr::runtime::Runtime::run_loop\n",
      "   7: evcxr::runtime::runtime_hook\n",
      "   8: evcxr_jupyter::main\n"
     ]
    }
   ],
   "source": [
    "std::panic::catch_unwind(|| {\n",
    "    &A.dot(&C);\n",
    "});"
   ]
  },
  {
   "cell_type": "code",
   "execution_count": 23,
   "metadata": {
    "vscode": {
     "languageId": "rust"
    }
   },
   "outputs": [
    {
     "name": "stdout",
     "output_type": "stream",
     "text": [
      "[3, 2]\n"
     ]
    }
   ],
   "source": [
    "let A = array![[1, 2], [3, 4], [5, 6]];\n",
    "println!(\"{:?}\", &A.shape());\n",
    "let B = array![7, 8];\n",
    "println!(\"{:?}\", &B.shape());\n",
    "println!(\"{}\", &A.dot(&B));"
   ]
  },
  {
   "cell_type": "markdown",
   "metadata": {},
   "source": [
    "## Neural network dot product"
   ]
  },
  {
   "cell_type": "markdown",
   "metadata": {},
   "source": [
    "$$ X(2) W(2*3) = Y(3)$$"
   ]
  },
  {
   "cell_type": "code",
   "execution_count": 24,
   "metadata": {
    "vscode": {
     "languageId": "rust"
    }
   },
   "outputs": [
    {
     "name": "stdout",
     "output_type": "stream",
     "text": [
      "[2]\n"
     ]
    }
   ],
   "source": [
    "let X = array![1, 2];\n",
    "println!(\"{:?}\", &X.shape());\n",
    "let W = array![[1, 3, 5], [2, 4, 6]];\n",
    "println!(\"{}\", &W);\n",
    "println!(\"{:?}\", &W.shape());\n",
    "let Y = X.dot(&W);\n",
    "println!(\"{}\", &Y);"
   ]
  },
  {
   "cell_type": "markdown",
   "metadata": {},
   "source": [
    "### Input layer to Hidden layer 1"
   ]
  },
  {
   "cell_type": "code",
   "execution_count": 25,
   "metadata": {
    "vscode": {
     "languageId": "rust"
    }
   },
   "outputs": [
    {
     "name": "stdout",
     "output_type": "stream",
     "text": [
      "[2, 3]\n",
      "[2]\n"
     ]
    }
   ],
   "source": [
    "let X = array![1.0_f32, 0.5];\n",
    "let W1 = array![[0.1_f32, 0.3, 0.5], [0.2, 0.4, 0.6]];\n",
    "let B1 = array![0.1_f32, 0.2, 0.3];\n",
    "\n",
    "println!(\"{:?}\", &W1.shape());\n",
    "println!(\"{:?}\", &X.shape());\n",
    "println!(\"{:?}\", &B1.shape());\n",
    "\n",
    "let A1 = X.dot(&W1) + &B1;\n",
    "let Z1 = sigmoid_array(&A1);\n",
    "println!(\"{}\", &A1);\n",
    "println!(\"{}\", &Z1);"
   ]
  },
  {
   "cell_type": "markdown",
   "metadata": {},
   "source": [
    "### Hidden layer 1 to layer 2"
   ]
  },
  {
   "cell_type": "code",
   "execution_count": 26,
   "metadata": {
    "vscode": {
     "languageId": "rust"
    }
   },
   "outputs": [
    {
     "name": "stdout",
     "output_type": "stream",
     "text": [
      "[3]\n",
      "[3, 2]\n"
     ]
    }
   ],
   "source": [
    "let W2 = array![[0.1_f32, 0.4], [0.2, 0.5], [0.3, 0.6]];\n",
    "let B2 = array![0.1_f32, 0.2];\n",
    "\n",
    "println!(\"{:?}\", &Z1.shape());\n",
    "println!(\"{:?}\", &W2.shape());\n",
    "println!(\"{:?}\", &B2.shape());\n",
    "\n",
    "let A2 = Z1.dot(&W2) + &B2;\n",
    "let Z2 = sigmoid_array(&A2);\n",
    "println!(\"{}\", &A2);\n",
    "println!(\"{}\", &Z2);"
   ]
  },
  {
   "cell_type": "markdown",
   "metadata": {},
   "source": [
    "### Hidden layer 2 to output layer"
   ]
  },
  {
   "cell_type": "code",
   "execution_count": 27,
   "metadata": {
    "vscode": {
     "languageId": "rust"
    }
   },
   "outputs": [
    {
     "name": "stdout",
     "output_type": "stream",
     "text": [
      "[0.3168271, 0.6962791]\n"
     ]
    }
   ],
   "source": [
    "fn identify(x: Array1<f32>) -> Array1<f32> { x }\n",
    "\n",
    "let W3 = array![[0.1_f32, 0.3], [0.2, 0.4]];\n",
    "let B3 = array![0.1_f32, 0.2];\n",
    "\n",
    "let A3 = Z2.dot(&W3) + &B3;\n",
    "let Y = identify(A3);\n",
    "println!(\"{}\", &Y);"
   ]
  },
  {
   "cell_type": "markdown",
   "metadata": {},
   "source": [
    "### Identify function and Softmax function"
   ]
  },
  {
   "cell_type": "markdown",
   "metadata": {},
   "source": [
    "$$y_k = {\\exp(a_k) \\over \\sum_{i=1}^n \\exp(a_i)}$$"
   ]
  },
  {
   "cell_type": "code",
   "execution_count": 28,
   "metadata": {
    "vscode": {
     "languageId": "rust"
    }
   },
   "outputs": [
    {
     "name": "stdout",
     "output_type": "stream",
     "text": [
      "[1.3498589, 18.174147, 54.59815]\n",
      "74.122154\n",
      "[0.018211273, 0.24519183, 0.7365969]\n"
     ]
    }
   ],
   "source": [
    "let a = array![0.3_f32, 2.9, 4.0];\n",
    "let exp_a = a.map(|x| x.exp());\n",
    "println!(\"{}\", &exp_a);\n",
    "let sum_exp_a = exp_a.sum();\n",
    "println!(\"{}\", &sum_exp_a);\n",
    "let y = exp_a / sum_exp_a;\n",
    "println!(\"{}\", &y);\n",
    "\n",
    "fn softmax(a: &Array1<f32>) -> Array1<f32> {\n",
    "    let exp_a = a.map(|x| x.exp());\n",
    "    let sum_exp_a = exp_a.sum();\n",
    "    exp_a / sum_exp_a\n",
    "}\n",
    "\n",
    "assert!(y == softmax(&array![0.3, 2.9, 4.0]));"
   ]
  },
  {
   "cell_type": "code",
   "execution_count": 29,
   "metadata": {
    "vscode": {
     "languageId": "rust"
    }
   },
   "outputs": [
    {
     "name": "stdout",
     "output_type": "stream",
     "text": [
      "[inf, inf, inf]\n"
     ]
    }
   ],
   "source": [
    "let a = array![1010.0_f32, 1000., 990.];\n",
    "let exp_a = a.map(|x| x.exp());\n",
    "println!(\"{}\", &exp_a);\n",
    "let sum_exp_a = exp_a.sum();\n",
    "println!(\"{}\", &sum_exp_a);\n",
    "let y = exp_a / sum_exp_a;\n",
    "println!(\"{}\", &y);\n"
   ]
  },
  {
   "cell_type": "code",
   "execution_count": 30,
   "metadata": {
    "vscode": {
     "languageId": "rust"
    }
   },
   "outputs": [
    {
     "name": "stdout",
     "output_type": "stream",
     "text": [
      "[0, -10, -20]\n",
      "[1, 0.00004539993, 0.0000000020611537]\n",
      "1.0000454\n",
      "[0.9999546, 0.00004539787, 0.00000000206106]\n"
     ]
    }
   ],
   "source": [
    "let a = array![1010.0_f32, 1000., 990.];\n",
    "let c: f32 = *a.max()?;\n",
    "let a_mod = a - c;\n",
    "println!(\"{}\", &a_mod);\n",
    "let exp_a = a_mod.map(|x| x.exp());\n",
    "println!(\"{}\", &exp_a);\n",
    "let sum_exp_a = exp_a.sum();\n",
    "println!(\"{}\", &sum_exp_a);\n",
    "let y = exp_a / sum_exp_a;\n",
    "println!(\"{}\", &y);\n",
    "\n",
    "fn softmax(a: &Array1<f32>) -> Array1<f32> {\n",
    "    let c: f32 = *a.max().unwrap();\n",
    "    let a_mod = a - c;\n",
    "    let exp_a = a_mod.map(|x| x.exp());\n",
    "    let sum_exp_a = exp_a.sum();\n",
    "    exp_a / sum_exp_a\n",
    "}"
   ]
  },
  {
   "cell_type": "code",
   "execution_count": 31,
   "metadata": {
    "vscode": {
     "languageId": "rust"
    }
   },
   "outputs": [
    {
     "name": "stdout",
     "output_type": "stream",
     "text": [
      "[0.018211273, 0.24519183, 0.73659694]\n"
     ]
    }
   ],
   "source": [
    "let a = array![0.3, 2.9, 4.0];\n",
    "let y = softmax(&a);\n",
    "println!(\"{}\", &y);\n",
    "println!(\"{:?}\", y.sum());"
   ]
  },
  {
   "cell_type": "markdown",
   "metadata": {},
   "source": [
    "## Recognize handwritten digits by forward propagation method (MNIST Database)"
   ]
  },
  {
   "cell_type": "code",
   "execution_count": 32,
   "metadata": {
    "vscode": {
     "languageId": "rust"
    }
   },
   "outputs": [
    {
     "name": "stdout",
     "output_type": "stream",
     "text": [
      "Attempting to download and extract train-images-idx3-ubyte.gz...\n",
      "  File \"data/train-images-idx3-ubyte.gz\" already exists, skipping downloading.\n",
      "  File \"data/train-labels-idx1-ubyte.gz\" already exists, skipping downloading.\n",
      "  File \"data/t10k-images-idx3-ubyte.gz\" already exists, skipping downloading.\n",
      "  File \"data/t10k-labels-idx1-ubyte.gz\" already exists, skipping downloading.\n",
      "  Extracted file \"data/train-images-idx3-ubyte\" already exists, skipping extraction.\n",
      "Attempting to download and extract train-labels-idx1-ubyte.gz...\n",
      "  File \"data/train-images-idx3-ubyte.gz\" already exists, skipping downloading.\n",
      "  File \"data/train-labels-idx1-ubyte.gz\" already exists, skipping downloading.\n",
      "  File \"data/t10k-images-idx3-ubyte.gz\" already exists, skipping downloading.\n",
      "  File \"data/t10k-labels-idx1-ubyte.gz\" already exists, skipping downloading.\n",
      "  Extracted file \"data/train-labels-idx1-ubyte\" already exists, skipping extraction.\n",
      "Attempting to download and extract t10k-images-idx3-ubyte.gz...\n",
      "  File \"data/train-images-idx3-ubyte.gz\" already exists, skipping downloading.\n",
      "  File \"data/train-labels-idx1-ubyte.gz\" already exists, skipping downloading.\n",
      "  File \"data/t10k-images-idx3-ubyte.gz\" already exists, skipping downloading.\n",
      "  File \"data/t10k-labels-idx1-ubyte.gz\" already exists, skipping downloading.\n",
      "  Extracted file \"data/t10k-images-idx3-ubyte\" already exists, skipping extraction.\n",
      "Attempting to download and extract t10k-labels-idx1-ubyte.gz...\n",
      "  File \"data/train-images-idx3-ubyte.gz\" already exists, skipping downloading.\n",
      "  File \"data/train-labels-idx1-ubyte.gz\" already exists, skipping downloading.\n",
      "  File \"data/t10k-images-idx3-ubyte.gz\" already exists, skipping downloading.\n",
      "  File \"data/t10k-labels-idx1-ubyte.gz\" already exists, skipping downloading.\n",
      "  Extracted file \"data/t10k-labels-idx1-ubyte\" already exists, skipping extraction.\n"
     ]
    }
   ],
   "source": [
    "let Mnist {\n",
    "    trn_img, trn_lbl,\n",
    "    tst_img, tst_lbl,\n",
    "    ..\n",
    "} = MnistBuilder::new()\n",
    "    .label_format_digit()\n",
    "    .training_set_length(60_000)\n",
    "    .test_set_length(10_000)\n",
    "    .download_and_extract()\n",
    "    .finalize();"
   ]
  },
  {
   "cell_type": "code",
   "execution_count": 33,
   "metadata": {
    "vscode": {
     "languageId": "rust"
    }
   },
   "outputs": [
    {
     "name": "stdout",
     "output_type": "stream",
     "text": [
      "[60000, 784]\n",
      "[60000, 1]\n",
      "[10000, 784]\n",
      "[10000, 1]\n"
     ]
    }
   ],
   "source": [
    "let x_train = Array2::from_shape_vec((60_000, 784), trn_img)\n",
    "    .expect(\"Error converting images to Array2 struct\")\n",
    "    .map(|x| *x as f32);\n",
    "let t_train = Array2::from_shape_vec((60_000, 1), trn_lbl)\n",
    "    .expect(\"Error converting images to Array2 struct\")\n",
    "    .map(|x| *x as i32);\n",
    "let x_test = Array2::from_shape_vec((10_000, 784), tst_img)\n",
    "    .expect(\"Error converting images to Array2 struct\")\n",
    "    .map(|x| *x as f32);\n",
    "let t_test = Array2::from_shape_vec((10_000, 1), tst_lbl)\n",
    "    .expect(\"Error converting images to Array2 struct\")\n",
    "    .map(|x| *x as i32);\n",
    "println!(\"{:?}\", &x_train.shape());\n",
    "println!(\"{:?}\", &t_train.shape());\n",
    "println!(\"{:?}\", &x_test.shape());\n",
    "println!(\"{:?}\", &t_test.shape());"
   ]
  },
  {
   "cell_type": "code",
   "execution_count": 34,
   "metadata": {
    "vscode": {
     "languageId": "rust"
    }
   },
   "outputs": [],
   "source": [
    "fn imshow(flatten_img: &Array1<f32>, width: u32, height: u32) {\n",
    "    let img_rgb = RgbImage::new(width, height);\n",
    "    image::ImageBuffer::from_fn(width, height, | x, y | {\n",
    "        let yi = y * width;\n",
    "        let i = (x + yi) as usize;\n",
    "        let p = flatten_img[i] as u8;\n",
    "        image::Rgb([p, p, p])\n",
    "    }).evcxr_display()\n",
    "}"
   ]
  },
  {
   "cell_type": "code",
   "execution_count": 35,
   "metadata": {
    "vscode": {
     "languageId": "rust"
    }
   },
   "outputs": [
    {
     "name": "stdout",
     "output_type": "stream",
     "text": [
      "[5]\n",
      "[784]\n"
     ]
    },
    {
     "data": {
      "image/png": "[encoded data removed]",
      "text/plain": [
       "()"
      ]
     },
     "execution_count": 35,
     "metadata": {},
     "output_type": "execute_result"
    }
   ],
   "source": [
    "let img: Array1<f32> = x_train.slice(s![0, ..]).to_owned();\n",
    "let label: Array1<i32> = t_train.slice(s![0, ..]).to_owned();\n",
    "println!(\"{}\", &label);\n",
    "println!(\"{:?}\", &img.shape());\n",
    "imshow(&img, 28, 28)"
   ]
  },
  {
   "cell_type": "code",
   "execution_count": 37,
   "metadata": {
    "vscode": {
     "languageId": "rust"
    }
   },
   "outputs": [],
   "source": [
    "fn get_data() -> (Array2<f32>, Array2<i32>) {\n",
    "    let Mnist {\n",
    "        trn_img, trn_lbl,\n",
    "        tst_img, tst_lbl,\n",
    "        ..\n",
    "    } = MnistBuilder::new()\n",
    "        .label_format_digit()\n",
    "        .training_set_length(60_000)\n",
    "        .test_set_length(10_000)\n",
    "        .download_and_extract()\n",
    "        .finalize();\n",
    "    let x_test = Array2::from_shape_vec((10_000, 784), tst_img)\n",
    "        .expect(\"Error converting images to Array2 struct\")\n",
    "        .map(|x| *x as f32);\n",
    "    let t_test = Array2::from_shape_vec((10_000, 1), tst_lbl)\n",
    "        .expect(\"Error converting images to Array2 struct\")\n",
    "        .map(|x| *x as i32);\n",
    "    (x_test, t_test)\n",
    "}"
   ]
  }
 ],
 "metadata": {
  "kernelspec": {
   "display_name": "Rust",
   "language": "rust",
   "name": "rust"
  },
  "language_info": {
   "codemirror_mode": "rust",
   "file_extension": ".rs",
   "mimetype": "text/rust",
   "name": "Rust",
   "pygment_lexer": "rust",
   "version": ""
  },
  "orig_nbformat": 4
 },
 "nbformat": 4,
 "nbformat_minor": 2
}
